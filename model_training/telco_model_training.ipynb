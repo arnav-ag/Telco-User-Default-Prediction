{
  "cells": [
    {
      "cell_type": "code",
      "execution_count": 1,
      "id": "recent-format",
      "metadata": {
        "id": "recent-format"
      },
      "outputs": [],
      "source": [
        "import matplotlib.pyplot as plt\n",
        "import pandas as pd\n",
        "import numpy as np\n",
        "import xgboost\n",
        "from sklearn import model_selection\n",
        "from sklearn.metrics import accuracy_score, ConfusionMatrixDisplay, f1_score, precision_score\n",
        "from sklearn.preprocessing import LabelEncoder, MinMaxScaler"
      ]
    },
    {
      "cell_type": "markdown",
      "id": "VqfmpVYlcZ4s",
      "metadata": {
        "id": "VqfmpVYlcZ4s"
      },
      "source": [
        "Reading from our CSV file (we have added an 'Error' header for the last column to make processing easier):"
      ]
    },
    {
      "cell_type": "code",
      "execution_count": 2,
      "id": "A4W3EvjPcUIj",
      "metadata": {
        "id": "A4W3EvjPcUIj"
      },
      "outputs": [],
      "source": [
        "df = pd.read_csv('finantier_data_technical_test_dataset.csv')\n",
        "\n",
        "# Error column handling\n",
        "df['Error'].replace(np.nan, 'No', inplace = True)\n",
        "df['Error'].replace('error_error', np.nan, inplace = True)"
      ]
    },
    {
      "cell_type": "code",
      "execution_count": 3,
      "id": "CGyWI7oPcXV9",
      "metadata": {
        "colab": {
          "base_uri": "https://localhost:8080/",
          "height": 322
        },
        "id": "CGyWI7oPcXV9",
        "outputId": "b0411d31-b56d-486f-c813-48c6ee90e2ec"
      },
      "outputs": [
        {
          "data": {
            "text/html": [
              "<div>\n",
              "<style scoped>\n",
              "    .dataframe tbody tr th:only-of-type {\n",
              "        vertical-align: middle;\n",
              "    }\n",
              "\n",
              "    .dataframe tbody tr th {\n",
              "        vertical-align: top;\n",
              "    }\n",
              "\n",
              "    .dataframe thead th {\n",
              "        text-align: right;\n",
              "    }\n",
              "</style>\n",
              "<table border=\"1\" class=\"dataframe\">\n",
              "  <thead>\n",
              "    <tr style=\"text-align: right;\">\n",
              "      <th></th>\n",
              "      <th>customerID</th>\n",
              "      <th>gender</th>\n",
              "      <th>SeniorCitizen</th>\n",
              "      <th>Partner</th>\n",
              "      <th>Dependents</th>\n",
              "      <th>tenure</th>\n",
              "      <th>PhoneService</th>\n",
              "      <th>MultipleLines</th>\n",
              "      <th>InternetService</th>\n",
              "      <th>OnlineSecurity</th>\n",
              "      <th>...</th>\n",
              "      <th>TechSupport</th>\n",
              "      <th>StreamingTV</th>\n",
              "      <th>StreamingMovies</th>\n",
              "      <th>Contract</th>\n",
              "      <th>PaperlessBilling</th>\n",
              "      <th>PaymentMethod</th>\n",
              "      <th>MonthlyCharges</th>\n",
              "      <th>TotalCharges</th>\n",
              "      <th>Default</th>\n",
              "      <th>Error</th>\n",
              "    </tr>\n",
              "  </thead>\n",
              "  <tbody>\n",
              "    <tr>\n",
              "      <th>0</th>\n",
              "      <td>4808-GHDJN</td>\n",
              "      <td>Female</td>\n",
              "      <td>NaN</td>\n",
              "      <td>NaN</td>\n",
              "      <td>NaN</td>\n",
              "      <td>NaN</td>\n",
              "      <td>NaN</td>\n",
              "      <td>NaN</td>\n",
              "      <td>NaN</td>\n",
              "      <td>NaN</td>\n",
              "      <td>...</td>\n",
              "      <td>NaN</td>\n",
              "      <td>NaN</td>\n",
              "      <td>NaN</td>\n",
              "      <td>NaN</td>\n",
              "      <td>NaN</td>\n",
              "      <td>NaN</td>\n",
              "      <td>NaN</td>\n",
              "      <td>NaN</td>\n",
              "      <td>NaN</td>\n",
              "      <td>NaN</td>\n",
              "    </tr>\n",
              "    <tr>\n",
              "      <th>1</th>\n",
              "      <td>7590-VHVEG</td>\n",
              "      <td>Female</td>\n",
              "      <td>0.0</td>\n",
              "      <td>Yes</td>\n",
              "      <td>No</td>\n",
              "      <td>1.0</td>\n",
              "      <td>No</td>\n",
              "      <td>No phone service</td>\n",
              "      <td>DSL</td>\n",
              "      <td>No</td>\n",
              "      <td>...</td>\n",
              "      <td>No</td>\n",
              "      <td>No</td>\n",
              "      <td>No</td>\n",
              "      <td>Month-to-month</td>\n",
              "      <td>Yes</td>\n",
              "      <td>Electronic check</td>\n",
              "      <td>29.85</td>\n",
              "      <td>29.85</td>\n",
              "      <td>No</td>\n",
              "      <td>No</td>\n",
              "    </tr>\n",
              "    <tr>\n",
              "      <th>2</th>\n",
              "      <td>5575-GNVDE</td>\n",
              "      <td>Male</td>\n",
              "      <td>0.0</td>\n",
              "      <td>No</td>\n",
              "      <td>No</td>\n",
              "      <td>34.0</td>\n",
              "      <td>Yes</td>\n",
              "      <td>No</td>\n",
              "      <td>DSL</td>\n",
              "      <td>Yes</td>\n",
              "      <td>...</td>\n",
              "      <td>No</td>\n",
              "      <td>No</td>\n",
              "      <td>No</td>\n",
              "      <td>One year</td>\n",
              "      <td>No</td>\n",
              "      <td>Mailed check</td>\n",
              "      <td>56.95</td>\n",
              "      <td>1889.5</td>\n",
              "      <td>No</td>\n",
              "      <td>NaN</td>\n",
              "    </tr>\n",
              "    <tr>\n",
              "      <th>3</th>\n",
              "      <td>3668-QPYBK</td>\n",
              "      <td>Male</td>\n",
              "      <td>0.0</td>\n",
              "      <td>No</td>\n",
              "      <td>No</td>\n",
              "      <td>2.0</td>\n",
              "      <td>Yes</td>\n",
              "      <td>No</td>\n",
              "      <td>DSL</td>\n",
              "      <td>Yes</td>\n",
              "      <td>...</td>\n",
              "      <td>No</td>\n",
              "      <td>No</td>\n",
              "      <td>No</td>\n",
              "      <td>Month-to-month</td>\n",
              "      <td>Yes</td>\n",
              "      <td>Mailed check</td>\n",
              "      <td>53.85</td>\n",
              "      <td>108.15</td>\n",
              "      <td>Yes</td>\n",
              "      <td>No</td>\n",
              "    </tr>\n",
              "    <tr>\n",
              "      <th>4</th>\n",
              "      <td>7795-CFOCW</td>\n",
              "      <td>Male</td>\n",
              "      <td>0.0</td>\n",
              "      <td>No</td>\n",
              "      <td>No</td>\n",
              "      <td>45.0</td>\n",
              "      <td>No</td>\n",
              "      <td>No phone service</td>\n",
              "      <td>DSL</td>\n",
              "      <td>Yes</td>\n",
              "      <td>...</td>\n",
              "      <td>Yes</td>\n",
              "      <td>No</td>\n",
              "      <td>No</td>\n",
              "      <td>One year</td>\n",
              "      <td>No</td>\n",
              "      <td>Bank transfer (automatic)</td>\n",
              "      <td>42.30</td>\n",
              "      <td>1840.75</td>\n",
              "      <td>No</td>\n",
              "      <td>No</td>\n",
              "    </tr>\n",
              "  </tbody>\n",
              "</table>\n",
              "<p>5 rows × 22 columns</p>\n",
              "</div>"
            ],
            "text/plain": [
              "   customerID  gender  SeniorCitizen Partner Dependents  tenure PhoneService  \\\n",
              "0  4808-GHDJN  Female            NaN     NaN        NaN     NaN          NaN   \n",
              "1  7590-VHVEG  Female            0.0     Yes         No     1.0           No   \n",
              "2  5575-GNVDE    Male            0.0      No         No    34.0          Yes   \n",
              "3  3668-QPYBK    Male            0.0      No         No     2.0          Yes   \n",
              "4  7795-CFOCW    Male            0.0      No         No    45.0           No   \n",
              "\n",
              "      MultipleLines InternetService OnlineSecurity  ... TechSupport  \\\n",
              "0               NaN             NaN            NaN  ...         NaN   \n",
              "1  No phone service             DSL             No  ...          No   \n",
              "2                No             DSL            Yes  ...          No   \n",
              "3                No             DSL            Yes  ...          No   \n",
              "4  No phone service             DSL            Yes  ...         Yes   \n",
              "\n",
              "  StreamingTV StreamingMovies        Contract PaperlessBilling  \\\n",
              "0         NaN             NaN             NaN              NaN   \n",
              "1          No              No  Month-to-month              Yes   \n",
              "2          No              No        One year               No   \n",
              "3          No              No  Month-to-month              Yes   \n",
              "4          No              No        One year               No   \n",
              "\n",
              "               PaymentMethod MonthlyCharges TotalCharges  Default Error  \n",
              "0                        NaN            NaN          NaN      NaN   NaN  \n",
              "1           Electronic check          29.85        29.85       No    No  \n",
              "2               Mailed check          56.95       1889.5       No   NaN  \n",
              "3               Mailed check          53.85       108.15      Yes    No  \n",
              "4  Bank transfer (automatic)          42.30      1840.75       No    No  \n",
              "\n",
              "[5 rows x 22 columns]"
            ]
          },
          "execution_count": 3,
          "metadata": {},
          "output_type": "execute_result"
        }
      ],
      "source": [
        "df.head()"
      ]
    },
    {
      "cell_type": "markdown",
      "id": "WZBg5X9ochxu",
      "metadata": {
        "id": "WZBg5X9ochxu"
      },
      "source": [
        "Now we check the data types contained in the columns of our dataset:"
      ]
    },
    {
      "cell_type": "code",
      "execution_count": 4,
      "id": "qjN1FLL4cm12",
      "metadata": {
        "colab": {
          "base_uri": "https://localhost:8080/"
        },
        "id": "qjN1FLL4cm12",
        "outputId": "8fb5a7f2-6226-41b8-c5e4-461b30adb138"
      },
      "outputs": [
        {
          "data": {
            "text/plain": [
              "customerID           object\n",
              "gender               object\n",
              "SeniorCitizen       float64\n",
              "Partner              object\n",
              "Dependents           object\n",
              "tenure              float64\n",
              "PhoneService         object\n",
              "MultipleLines        object\n",
              "InternetService      object\n",
              "OnlineSecurity       object\n",
              "OnlineBackup         object\n",
              "DeviceProtection     object\n",
              "TechSupport          object\n",
              "StreamingTV          object\n",
              "StreamingMovies      object\n",
              "Contract             object\n",
              "PaperlessBilling     object\n",
              "PaymentMethod        object\n",
              "MonthlyCharges      float64\n",
              "TotalCharges         object\n",
              "Default              object\n",
              "Error                object\n",
              "dtype: object"
            ]
          },
          "execution_count": 4,
          "metadata": {},
          "output_type": "execute_result"
        }
      ],
      "source": [
        "df.dtypes"
      ]
    },
    {
      "cell_type": "markdown",
      "id": "pVCm2VJPcteB",
      "metadata": {
        "id": "pVCm2VJPcteB"
      },
      "source": [
        "Noticing that total charges is of type object (likely string), we need to convert it to float type (or any relevant numeric type) and then check for null values (if not TotalCharges would have been read as float in the first place):"
      ]
    },
    {
      "cell_type": "code",
      "execution_count": 5,
      "id": "of6M5_YUcsFE",
      "metadata": {
        "colab": {
          "base_uri": "https://localhost:8080/"
        },
        "id": "of6M5_YUcsFE",
        "outputId": "edaa0d52-0478-49d4-dea0-f6bea1c50b0d"
      },
      "outputs": [
        {
          "data": {
            "text/plain": [
              "customerID           4\n",
              "gender               4\n",
              "SeniorCitizen        5\n",
              "Partner              5\n",
              "Dependents           5\n",
              "tenure               5\n",
              "PhoneService         5\n",
              "MultipleLines        5\n",
              "InternetService      5\n",
              "OnlineSecurity       5\n",
              "OnlineBackup         5\n",
              "DeviceProtection     5\n",
              "TechSupport          5\n",
              "StreamingTV          5\n",
              "StreamingMovies      5\n",
              "Contract             5\n",
              "PaperlessBilling     5\n",
              "PaymentMethod        5\n",
              "MonthlyCharges       5\n",
              "TotalCharges        16\n",
              "Default              5\n",
              "Error                4\n",
              "dtype: int64"
            ]
          },
          "execution_count": 5,
          "metadata": {},
          "output_type": "execute_result"
        }
      ],
      "source": [
        "df['TotalCharges'] = pd.to_numeric(df['TotalCharges'], errors = 'coerce')\n",
        "\n",
        "df.isnull().sum()"
      ]
    },
    {
      "cell_type": "markdown",
      "id": "_VxEFYqndwSZ",
      "metadata": {
        "id": "_VxEFYqndwSZ"
      },
      "source": [
        "We see multiple null values in each row, which we can easily remove using dropna function. We also need to remove the customerID and error columns as they are not relevant to our processing:"
      ]
    },
    {
      "cell_type": "code",
      "execution_count": 6,
      "id": "mojlmqJieA8q",
      "metadata": {
        "colab": {
          "base_uri": "https://localhost:8080/",
          "height": 357
        },
        "id": "mojlmqJieA8q",
        "outputId": "5cfd2250-bf02-4f9d-e1f8-254d8c0d026e"
      },
      "outputs": [
        {
          "data": {
            "text/html": [
              "<div>\n",
              "<style scoped>\n",
              "    .dataframe tbody tr th:only-of-type {\n",
              "        vertical-align: middle;\n",
              "    }\n",
              "\n",
              "    .dataframe tbody tr th {\n",
              "        vertical-align: top;\n",
              "    }\n",
              "\n",
              "    .dataframe thead th {\n",
              "        text-align: right;\n",
              "    }\n",
              "</style>\n",
              "<table border=\"1\" class=\"dataframe\">\n",
              "  <thead>\n",
              "    <tr style=\"text-align: right;\">\n",
              "      <th></th>\n",
              "      <th>gender</th>\n",
              "      <th>SeniorCitizen</th>\n",
              "      <th>Partner</th>\n",
              "      <th>Dependents</th>\n",
              "      <th>tenure</th>\n",
              "      <th>PhoneService</th>\n",
              "      <th>MultipleLines</th>\n",
              "      <th>InternetService</th>\n",
              "      <th>OnlineSecurity</th>\n",
              "      <th>OnlineBackup</th>\n",
              "      <th>DeviceProtection</th>\n",
              "      <th>TechSupport</th>\n",
              "      <th>StreamingTV</th>\n",
              "      <th>StreamingMovies</th>\n",
              "      <th>Contract</th>\n",
              "      <th>PaperlessBilling</th>\n",
              "      <th>PaymentMethod</th>\n",
              "      <th>MonthlyCharges</th>\n",
              "      <th>TotalCharges</th>\n",
              "      <th>Default</th>\n",
              "    </tr>\n",
              "  </thead>\n",
              "  <tbody>\n",
              "    <tr>\n",
              "      <th>1</th>\n",
              "      <td>Female</td>\n",
              "      <td>0.0</td>\n",
              "      <td>Yes</td>\n",
              "      <td>No</td>\n",
              "      <td>1.0</td>\n",
              "      <td>No</td>\n",
              "      <td>No phone service</td>\n",
              "      <td>DSL</td>\n",
              "      <td>No</td>\n",
              "      <td>Yes</td>\n",
              "      <td>No</td>\n",
              "      <td>No</td>\n",
              "      <td>No</td>\n",
              "      <td>No</td>\n",
              "      <td>Month-to-month</td>\n",
              "      <td>Yes</td>\n",
              "      <td>Electronic check</td>\n",
              "      <td>29.85</td>\n",
              "      <td>29.85</td>\n",
              "      <td>No</td>\n",
              "    </tr>\n",
              "    <tr>\n",
              "      <th>3</th>\n",
              "      <td>Male</td>\n",
              "      <td>0.0</td>\n",
              "      <td>No</td>\n",
              "      <td>No</td>\n",
              "      <td>2.0</td>\n",
              "      <td>Yes</td>\n",
              "      <td>No</td>\n",
              "      <td>DSL</td>\n",
              "      <td>Yes</td>\n",
              "      <td>Yes</td>\n",
              "      <td>No</td>\n",
              "      <td>No</td>\n",
              "      <td>No</td>\n",
              "      <td>No</td>\n",
              "      <td>Month-to-month</td>\n",
              "      <td>Yes</td>\n",
              "      <td>Mailed check</td>\n",
              "      <td>53.85</td>\n",
              "      <td>108.15</td>\n",
              "      <td>Yes</td>\n",
              "    </tr>\n",
              "    <tr>\n",
              "      <th>4</th>\n",
              "      <td>Male</td>\n",
              "      <td>0.0</td>\n",
              "      <td>No</td>\n",
              "      <td>No</td>\n",
              "      <td>45.0</td>\n",
              "      <td>No</td>\n",
              "      <td>No phone service</td>\n",
              "      <td>DSL</td>\n",
              "      <td>Yes</td>\n",
              "      <td>No</td>\n",
              "      <td>Yes</td>\n",
              "      <td>Yes</td>\n",
              "      <td>No</td>\n",
              "      <td>No</td>\n",
              "      <td>One year</td>\n",
              "      <td>No</td>\n",
              "      <td>Bank transfer (automatic)</td>\n",
              "      <td>42.30</td>\n",
              "      <td>1840.75</td>\n",
              "      <td>No</td>\n",
              "    </tr>\n",
              "    <tr>\n",
              "      <th>5</th>\n",
              "      <td>Female</td>\n",
              "      <td>0.0</td>\n",
              "      <td>No</td>\n",
              "      <td>No</td>\n",
              "      <td>2.0</td>\n",
              "      <td>Yes</td>\n",
              "      <td>No</td>\n",
              "      <td>Fiber optic</td>\n",
              "      <td>No</td>\n",
              "      <td>No</td>\n",
              "      <td>No</td>\n",
              "      <td>No</td>\n",
              "      <td>No</td>\n",
              "      <td>No</td>\n",
              "      <td>Month-to-month</td>\n",
              "      <td>Yes</td>\n",
              "      <td>Electronic check</td>\n",
              "      <td>70.70</td>\n",
              "      <td>151.65</td>\n",
              "      <td>Yes</td>\n",
              "    </tr>\n",
              "    <tr>\n",
              "      <th>6</th>\n",
              "      <td>Female</td>\n",
              "      <td>0.0</td>\n",
              "      <td>No</td>\n",
              "      <td>No</td>\n",
              "      <td>8.0</td>\n",
              "      <td>Yes</td>\n",
              "      <td>Yes</td>\n",
              "      <td>Fiber optic</td>\n",
              "      <td>No</td>\n",
              "      <td>No</td>\n",
              "      <td>Yes</td>\n",
              "      <td>No</td>\n",
              "      <td>Yes</td>\n",
              "      <td>Yes</td>\n",
              "      <td>Month-to-month</td>\n",
              "      <td>Yes</td>\n",
              "      <td>Electronic check</td>\n",
              "      <td>99.65</td>\n",
              "      <td>820.50</td>\n",
              "      <td>Yes</td>\n",
              "    </tr>\n",
              "  </tbody>\n",
              "</table>\n",
              "</div>"
            ],
            "text/plain": [
              "   gender  SeniorCitizen Partner Dependents  tenure PhoneService  \\\n",
              "1  Female            0.0     Yes         No     1.0           No   \n",
              "3    Male            0.0      No         No     2.0          Yes   \n",
              "4    Male            0.0      No         No    45.0           No   \n",
              "5  Female            0.0      No         No     2.0          Yes   \n",
              "6  Female            0.0      No         No     8.0          Yes   \n",
              "\n",
              "      MultipleLines InternetService OnlineSecurity OnlineBackup  \\\n",
              "1  No phone service             DSL             No          Yes   \n",
              "3                No             DSL            Yes          Yes   \n",
              "4  No phone service             DSL            Yes           No   \n",
              "5                No     Fiber optic             No           No   \n",
              "6               Yes     Fiber optic             No           No   \n",
              "\n",
              "  DeviceProtection TechSupport StreamingTV StreamingMovies        Contract  \\\n",
              "1               No          No          No              No  Month-to-month   \n",
              "3               No          No          No              No  Month-to-month   \n",
              "4              Yes         Yes          No              No        One year   \n",
              "5               No          No          No              No  Month-to-month   \n",
              "6              Yes          No         Yes             Yes  Month-to-month   \n",
              "\n",
              "  PaperlessBilling              PaymentMethod  MonthlyCharges  TotalCharges  \\\n",
              "1              Yes           Electronic check           29.85         29.85   \n",
              "3              Yes               Mailed check           53.85        108.15   \n",
              "4               No  Bank transfer (automatic)           42.30       1840.75   \n",
              "5              Yes           Electronic check           70.70        151.65   \n",
              "6              Yes           Electronic check           99.65        820.50   \n",
              "\n",
              "  Default  \n",
              "1      No  \n",
              "3     Yes  \n",
              "4      No  \n",
              "5     Yes  \n",
              "6     Yes  "
            ]
          },
          "execution_count": 6,
          "metadata": {},
          "output_type": "execute_result"
        }
      ],
      "source": [
        "# Remove all null values\n",
        "df.dropna(inplace = True)\n",
        "\n",
        "# Remove error and customerID column\n",
        "df.drop(labels = ['customerID', 'Error'], axis = 1, inplace = True)\n",
        "\n",
        "df.isnull().sum()\n",
        "df.head()"
      ]
    },
    {
      "cell_type": "markdown",
      "id": "C0tPH5iyeV5s",
      "metadata": {
        "id": "C0tPH5iyeV5s"
      },
      "source": [
        "Now we have no more null values and our irrelevant columns have been removed! Thus the data cleaning has been completed. We now need to perform data encoding on the various columns. We can label encode binary columns and use `pd.dummies()` function to one hot encode all the other columns."
      ]
    },
    {
      "cell_type": "code",
      "execution_count": 7,
      "id": "S6qFSr8Ae8jg",
      "metadata": {
        "colab": {
          "base_uri": "https://localhost:8080/",
          "height": 305
        },
        "id": "S6qFSr8Ae8jg",
        "outputId": "826e874c-ed2c-4658-c7a7-83d38850664a"
      },
      "outputs": [
        {
          "data": {
            "text/html": [
              "<div>\n",
              "<style scoped>\n",
              "    .dataframe tbody tr th:only-of-type {\n",
              "        vertical-align: middle;\n",
              "    }\n",
              "\n",
              "    .dataframe tbody tr th {\n",
              "        vertical-align: top;\n",
              "    }\n",
              "\n",
              "    .dataframe thead th {\n",
              "        text-align: right;\n",
              "    }\n",
              "</style>\n",
              "<table border=\"1\" class=\"dataframe\">\n",
              "  <thead>\n",
              "    <tr style=\"text-align: right;\">\n",
              "      <th></th>\n",
              "      <th>gender</th>\n",
              "      <th>SeniorCitizen</th>\n",
              "      <th>Partner</th>\n",
              "      <th>Dependents</th>\n",
              "      <th>tenure</th>\n",
              "      <th>PhoneService</th>\n",
              "      <th>PaperlessBilling</th>\n",
              "      <th>MonthlyCharges</th>\n",
              "      <th>TotalCharges</th>\n",
              "      <th>Default</th>\n",
              "      <th>...</th>\n",
              "      <th>StreamingMovies_No</th>\n",
              "      <th>StreamingMovies_No internet service</th>\n",
              "      <th>StreamingMovies_Yes</th>\n",
              "      <th>Contract_Month-to-month</th>\n",
              "      <th>Contract_One year</th>\n",
              "      <th>Contract_Two year</th>\n",
              "      <th>PaymentMethod_Bank transfer (automatic)</th>\n",
              "      <th>PaymentMethod_Credit card (automatic)</th>\n",
              "      <th>PaymentMethod_Electronic check</th>\n",
              "      <th>PaymentMethod_Mailed check</th>\n",
              "    </tr>\n",
              "  </thead>\n",
              "  <tbody>\n",
              "    <tr>\n",
              "      <th>1</th>\n",
              "      <td>0</td>\n",
              "      <td>0</td>\n",
              "      <td>1</td>\n",
              "      <td>0</td>\n",
              "      <td>1.0</td>\n",
              "      <td>0</td>\n",
              "      <td>1</td>\n",
              "      <td>29.85</td>\n",
              "      <td>29.85</td>\n",
              "      <td>0</td>\n",
              "      <td>...</td>\n",
              "      <td>1</td>\n",
              "      <td>0</td>\n",
              "      <td>0</td>\n",
              "      <td>1</td>\n",
              "      <td>0</td>\n",
              "      <td>0</td>\n",
              "      <td>0</td>\n",
              "      <td>0</td>\n",
              "      <td>1</td>\n",
              "      <td>0</td>\n",
              "    </tr>\n",
              "    <tr>\n",
              "      <th>3</th>\n",
              "      <td>1</td>\n",
              "      <td>0</td>\n",
              "      <td>0</td>\n",
              "      <td>0</td>\n",
              "      <td>2.0</td>\n",
              "      <td>1</td>\n",
              "      <td>1</td>\n",
              "      <td>53.85</td>\n",
              "      <td>108.15</td>\n",
              "      <td>1</td>\n",
              "      <td>...</td>\n",
              "      <td>1</td>\n",
              "      <td>0</td>\n",
              "      <td>0</td>\n",
              "      <td>1</td>\n",
              "      <td>0</td>\n",
              "      <td>0</td>\n",
              "      <td>0</td>\n",
              "      <td>0</td>\n",
              "      <td>0</td>\n",
              "      <td>1</td>\n",
              "    </tr>\n",
              "    <tr>\n",
              "      <th>4</th>\n",
              "      <td>1</td>\n",
              "      <td>0</td>\n",
              "      <td>0</td>\n",
              "      <td>0</td>\n",
              "      <td>45.0</td>\n",
              "      <td>0</td>\n",
              "      <td>0</td>\n",
              "      <td>42.30</td>\n",
              "      <td>1840.75</td>\n",
              "      <td>0</td>\n",
              "      <td>...</td>\n",
              "      <td>1</td>\n",
              "      <td>0</td>\n",
              "      <td>0</td>\n",
              "      <td>0</td>\n",
              "      <td>1</td>\n",
              "      <td>0</td>\n",
              "      <td>1</td>\n",
              "      <td>0</td>\n",
              "      <td>0</td>\n",
              "      <td>0</td>\n",
              "    </tr>\n",
              "    <tr>\n",
              "      <th>5</th>\n",
              "      <td>0</td>\n",
              "      <td>0</td>\n",
              "      <td>0</td>\n",
              "      <td>0</td>\n",
              "      <td>2.0</td>\n",
              "      <td>1</td>\n",
              "      <td>1</td>\n",
              "      <td>70.70</td>\n",
              "      <td>151.65</td>\n",
              "      <td>1</td>\n",
              "      <td>...</td>\n",
              "      <td>1</td>\n",
              "      <td>0</td>\n",
              "      <td>0</td>\n",
              "      <td>1</td>\n",
              "      <td>0</td>\n",
              "      <td>0</td>\n",
              "      <td>0</td>\n",
              "      <td>0</td>\n",
              "      <td>1</td>\n",
              "      <td>0</td>\n",
              "    </tr>\n",
              "    <tr>\n",
              "      <th>6</th>\n",
              "      <td>0</td>\n",
              "      <td>0</td>\n",
              "      <td>0</td>\n",
              "      <td>0</td>\n",
              "      <td>8.0</td>\n",
              "      <td>1</td>\n",
              "      <td>1</td>\n",
              "      <td>99.65</td>\n",
              "      <td>820.50</td>\n",
              "      <td>1</td>\n",
              "      <td>...</td>\n",
              "      <td>0</td>\n",
              "      <td>0</td>\n",
              "      <td>1</td>\n",
              "      <td>1</td>\n",
              "      <td>0</td>\n",
              "      <td>0</td>\n",
              "      <td>0</td>\n",
              "      <td>0</td>\n",
              "      <td>1</td>\n",
              "      <td>0</td>\n",
              "    </tr>\n",
              "  </tbody>\n",
              "</table>\n",
              "<p>5 rows × 41 columns</p>\n",
              "</div>"
            ],
            "text/plain": [
              "   gender  SeniorCitizen  Partner  Dependents  tenure  PhoneService  \\\n",
              "1       0              0        1           0     1.0             0   \n",
              "3       1              0        0           0     2.0             1   \n",
              "4       1              0        0           0    45.0             0   \n",
              "5       0              0        0           0     2.0             1   \n",
              "6       0              0        0           0     8.0             1   \n",
              "\n",
              "   PaperlessBilling  MonthlyCharges  TotalCharges  Default  ...  \\\n",
              "1                 1           29.85         29.85        0  ...   \n",
              "3                 1           53.85        108.15        1  ...   \n",
              "4                 0           42.30       1840.75        0  ...   \n",
              "5                 1           70.70        151.65        1  ...   \n",
              "6                 1           99.65        820.50        1  ...   \n",
              "\n",
              "   StreamingMovies_No  StreamingMovies_No internet service  \\\n",
              "1                   1                                    0   \n",
              "3                   1                                    0   \n",
              "4                   1                                    0   \n",
              "5                   1                                    0   \n",
              "6                   0                                    0   \n",
              "\n",
              "   StreamingMovies_Yes  Contract_Month-to-month  Contract_One year  \\\n",
              "1                    0                        1                  0   \n",
              "3                    0                        1                  0   \n",
              "4                    0                        0                  1   \n",
              "5                    0                        1                  0   \n",
              "6                    1                        1                  0   \n",
              "\n",
              "   Contract_Two year  PaymentMethod_Bank transfer (automatic)  \\\n",
              "1                  0                                        0   \n",
              "3                  0                                        0   \n",
              "4                  0                                        1   \n",
              "5                  0                                        0   \n",
              "6                  0                                        0   \n",
              "\n",
              "   PaymentMethod_Credit card (automatic)  PaymentMethod_Electronic check  \\\n",
              "1                                      0                               1   \n",
              "3                                      0                               0   \n",
              "4                                      0                               0   \n",
              "5                                      0                               1   \n",
              "6                                      0                               1   \n",
              "\n",
              "   PaymentMethod_Mailed check  \n",
              "1                           0  \n",
              "3                           1  \n",
              "4                           0  \n",
              "5                           0  \n",
              "6                           0  \n",
              "\n",
              "[5 rows x 41 columns]"
            ]
          },
          "execution_count": 7,
          "metadata": {},
          "output_type": "execute_result"
        }
      ],
      "source": [
        "# We let not having defaulted be a value of 1 while defaulting be a value of 0\n",
        "# df['Default'] = df['Default'].map({'Yes': 0, 'No': 1})\n",
        "\n",
        "# Perform label encoding on binary columns\n",
        "to_label_encode = ['gender',\n",
        "                   'Partner',\n",
        "                   'Dependents',\n",
        "                   'PhoneService',\n",
        "                   'Default',\n",
        "                   'PaperlessBilling',\n",
        "                   'SeniorCitizen'\n",
        "                   ]\n",
        "\n",
        "df[to_label_encode] = df[to_label_encode].apply(LabelEncoder().fit_transform)\n",
        "\n",
        "df.head()\n",
        "\n",
        "# Perform one-hot encoding on the rest of our data\n",
        "\n",
        "df_dummies = pd.get_dummies(df)\n",
        "df_dummies.head()"
      ]
    },
    {
      "cell_type": "markdown",
      "id": "nQNUBg6-j_GX",
      "metadata": {
        "id": "nQNUBg6-j_GX"
      },
      "source": [
        "We now perform min-max scaling on our numerical columns to scale them between 1 and 0:"
      ]
    },
    {
      "cell_type": "code",
      "execution_count": 8,
      "id": "A872ZmMvkJhT",
      "metadata": {
        "colab": {
          "base_uri": "https://localhost:8080/",
          "height": 305
        },
        "id": "A872ZmMvkJhT",
        "outputId": "af542bd3-1a8a-4d81-ec9f-33e42e47da5d"
      },
      "outputs": [
        {
          "name": "stdout",
          "output_type": "stream",
          "text": [
            "tenure              72.00\n",
            "MonthlyCharges     118.75\n",
            "TotalCharges      8684.80\n",
            "dtype: float64\n"
          ]
        },
        {
          "data": {
            "text/html": [
              "<div>\n",
              "<style scoped>\n",
              "    .dataframe tbody tr th:only-of-type {\n",
              "        vertical-align: middle;\n",
              "    }\n",
              "\n",
              "    .dataframe tbody tr th {\n",
              "        vertical-align: top;\n",
              "    }\n",
              "\n",
              "    .dataframe thead th {\n",
              "        text-align: right;\n",
              "    }\n",
              "</style>\n",
              "<table border=\"1\" class=\"dataframe\">\n",
              "  <thead>\n",
              "    <tr style=\"text-align: right;\">\n",
              "      <th></th>\n",
              "      <th>gender</th>\n",
              "      <th>SeniorCitizen</th>\n",
              "      <th>Partner</th>\n",
              "      <th>Dependents</th>\n",
              "      <th>tenure</th>\n",
              "      <th>PhoneService</th>\n",
              "      <th>PaperlessBilling</th>\n",
              "      <th>MonthlyCharges</th>\n",
              "      <th>TotalCharges</th>\n",
              "      <th>Default</th>\n",
              "      <th>...</th>\n",
              "      <th>StreamingMovies_No</th>\n",
              "      <th>StreamingMovies_No internet service</th>\n",
              "      <th>StreamingMovies_Yes</th>\n",
              "      <th>Contract_Month-to-month</th>\n",
              "      <th>Contract_One year</th>\n",
              "      <th>Contract_Two year</th>\n",
              "      <th>PaymentMethod_Bank transfer (automatic)</th>\n",
              "      <th>PaymentMethod_Credit card (automatic)</th>\n",
              "      <th>PaymentMethod_Electronic check</th>\n",
              "      <th>PaymentMethod_Mailed check</th>\n",
              "    </tr>\n",
              "  </thead>\n",
              "  <tbody>\n",
              "    <tr>\n",
              "      <th>1</th>\n",
              "      <td>0</td>\n",
              "      <td>0</td>\n",
              "      <td>1</td>\n",
              "      <td>0</td>\n",
              "      <td>0.000000</td>\n",
              "      <td>0</td>\n",
              "      <td>1</td>\n",
              "      <td>0.115423</td>\n",
              "      <td>0.001275</td>\n",
              "      <td>0</td>\n",
              "      <td>...</td>\n",
              "      <td>1</td>\n",
              "      <td>0</td>\n",
              "      <td>0</td>\n",
              "      <td>1</td>\n",
              "      <td>0</td>\n",
              "      <td>0</td>\n",
              "      <td>0</td>\n",
              "      <td>0</td>\n",
              "      <td>1</td>\n",
              "      <td>0</td>\n",
              "    </tr>\n",
              "    <tr>\n",
              "      <th>3</th>\n",
              "      <td>1</td>\n",
              "      <td>0</td>\n",
              "      <td>0</td>\n",
              "      <td>0</td>\n",
              "      <td>0.014085</td>\n",
              "      <td>1</td>\n",
              "      <td>1</td>\n",
              "      <td>0.354229</td>\n",
              "      <td>0.010310</td>\n",
              "      <td>1</td>\n",
              "      <td>...</td>\n",
              "      <td>1</td>\n",
              "      <td>0</td>\n",
              "      <td>0</td>\n",
              "      <td>1</td>\n",
              "      <td>0</td>\n",
              "      <td>0</td>\n",
              "      <td>0</td>\n",
              "      <td>0</td>\n",
              "      <td>0</td>\n",
              "      <td>1</td>\n",
              "    </tr>\n",
              "    <tr>\n",
              "      <th>4</th>\n",
              "      <td>1</td>\n",
              "      <td>0</td>\n",
              "      <td>0</td>\n",
              "      <td>0</td>\n",
              "      <td>0.619718</td>\n",
              "      <td>0</td>\n",
              "      <td>0</td>\n",
              "      <td>0.239303</td>\n",
              "      <td>0.210241</td>\n",
              "      <td>0</td>\n",
              "      <td>...</td>\n",
              "      <td>1</td>\n",
              "      <td>0</td>\n",
              "      <td>0</td>\n",
              "      <td>0</td>\n",
              "      <td>1</td>\n",
              "      <td>0</td>\n",
              "      <td>1</td>\n",
              "      <td>0</td>\n",
              "      <td>0</td>\n",
              "      <td>0</td>\n",
              "    </tr>\n",
              "    <tr>\n",
              "      <th>5</th>\n",
              "      <td>0</td>\n",
              "      <td>0</td>\n",
              "      <td>0</td>\n",
              "      <td>0</td>\n",
              "      <td>0.014085</td>\n",
              "      <td>1</td>\n",
              "      <td>1</td>\n",
              "      <td>0.521891</td>\n",
              "      <td>0.015330</td>\n",
              "      <td>1</td>\n",
              "      <td>...</td>\n",
              "      <td>1</td>\n",
              "      <td>0</td>\n",
              "      <td>0</td>\n",
              "      <td>1</td>\n",
              "      <td>0</td>\n",
              "      <td>0</td>\n",
              "      <td>0</td>\n",
              "      <td>0</td>\n",
              "      <td>1</td>\n",
              "      <td>0</td>\n",
              "    </tr>\n",
              "    <tr>\n",
              "      <th>6</th>\n",
              "      <td>0</td>\n",
              "      <td>0</td>\n",
              "      <td>0</td>\n",
              "      <td>0</td>\n",
              "      <td>0.098592</td>\n",
              "      <td>1</td>\n",
              "      <td>1</td>\n",
              "      <td>0.809950</td>\n",
              "      <td>0.092511</td>\n",
              "      <td>1</td>\n",
              "      <td>...</td>\n",
              "      <td>0</td>\n",
              "      <td>0</td>\n",
              "      <td>1</td>\n",
              "      <td>1</td>\n",
              "      <td>0</td>\n",
              "      <td>0</td>\n",
              "      <td>0</td>\n",
              "      <td>0</td>\n",
              "      <td>1</td>\n",
              "      <td>0</td>\n",
              "    </tr>\n",
              "  </tbody>\n",
              "</table>\n",
              "<p>5 rows × 41 columns</p>\n",
              "</div>"
            ],
            "text/plain": [
              "   gender  SeniorCitizen  Partner  Dependents    tenure  PhoneService  \\\n",
              "1       0              0        1           0  0.000000             0   \n",
              "3       1              0        0           0  0.014085             1   \n",
              "4       1              0        0           0  0.619718             0   \n",
              "5       0              0        0           0  0.014085             1   \n",
              "6       0              0        0           0  0.098592             1   \n",
              "\n",
              "   PaperlessBilling  MonthlyCharges  TotalCharges  Default  ...  \\\n",
              "1                 1        0.115423      0.001275        0  ...   \n",
              "3                 1        0.354229      0.010310        1  ...   \n",
              "4                 0        0.239303      0.210241        0  ...   \n",
              "5                 1        0.521891      0.015330        1  ...   \n",
              "6                 1        0.809950      0.092511        1  ...   \n",
              "\n",
              "   StreamingMovies_No  StreamingMovies_No internet service  \\\n",
              "1                   1                                    0   \n",
              "3                   1                                    0   \n",
              "4                   1                                    0   \n",
              "5                   1                                    0   \n",
              "6                   0                                    0   \n",
              "\n",
              "   StreamingMovies_Yes  Contract_Month-to-month  Contract_One year  \\\n",
              "1                    0                        1                  0   \n",
              "3                    0                        1                  0   \n",
              "4                    0                        0                  1   \n",
              "5                    0                        1                  0   \n",
              "6                    1                        1                  0   \n",
              "\n",
              "   Contract_Two year  PaymentMethod_Bank transfer (automatic)  \\\n",
              "1                  0                                        0   \n",
              "3                  0                                        0   \n",
              "4                  0                                        1   \n",
              "5                  0                                        0   \n",
              "6                  0                                        0   \n",
              "\n",
              "   PaymentMethod_Credit card (automatic)  PaymentMethod_Electronic check  \\\n",
              "1                                      0                               1   \n",
              "3                                      0                               0   \n",
              "4                                      0                               0   \n",
              "5                                      0                               1   \n",
              "6                                      0                               1   \n",
              "\n",
              "   PaymentMethod_Mailed check  \n",
              "1                           0  \n",
              "3                           1  \n",
              "4                           0  \n",
              "5                           0  \n",
              "6                           0  \n",
              "\n",
              "[5 rows x 41 columns]"
            ]
          },
          "execution_count": 8,
          "metadata": {},
          "output_type": "execute_result"
        }
      ],
      "source": [
        "df_scaled = df_dummies\n",
        "\n",
        "features_mms = ['tenure', 'MonthlyCharges', 'TotalCharges']\n",
        "print(df[features_mms].apply(max))\n",
        "df_scaled[features_mms] = MinMaxScaler().fit_transform(df_scaled[features_mms])\n",
        "df_scaled.head()"
      ]
    },
    {
      "cell_type": "markdown",
      "id": "affac5c1",
      "metadata": {},
      "source": [
        "Now, we check all the column headers in our data (this will be useful when using our model for an API endpoint)"
      ]
    },
    {
      "cell_type": "code",
      "execution_count": 9,
      "id": "f80b569d",
      "metadata": {},
      "outputs": [
        {
          "data": {
            "text/plain": [
              "Index(['gender', 'SeniorCitizen', 'Partner', 'Dependents', 'tenure',\n",
              "       'PhoneService', 'PaperlessBilling', 'MonthlyCharges', 'TotalCharges',\n",
              "       'Default', 'MultipleLines_No', 'MultipleLines_No phone service',\n",
              "       'MultipleLines_Yes', 'InternetService_DSL',\n",
              "       'InternetService_Fiber optic', 'InternetService_No',\n",
              "       'OnlineSecurity_No', 'OnlineSecurity_No internet service',\n",
              "       'OnlineSecurity_Yes', 'OnlineBackup_No',\n",
              "       'OnlineBackup_No internet service', 'OnlineBackup_Yes',\n",
              "       'DeviceProtection_No', 'DeviceProtection_No internet service',\n",
              "       'DeviceProtection_Yes', 'TechSupport_No',\n",
              "       'TechSupport_No internet service', 'TechSupport_Yes', 'StreamingTV_No',\n",
              "       'StreamingTV_No internet service', 'StreamingTV_Yes',\n",
              "       'StreamingMovies_No', 'StreamingMovies_No internet service',\n",
              "       'StreamingMovies_Yes', 'Contract_Month-to-month', 'Contract_One year',\n",
              "       'Contract_Two year', 'PaymentMethod_Bank transfer (automatic)',\n",
              "       'PaymentMethod_Credit card (automatic)',\n",
              "       'PaymentMethod_Electronic check', 'PaymentMethod_Mailed check'],\n",
              "      dtype='object')"
            ]
          },
          "execution_count": 9,
          "metadata": {},
          "output_type": "execute_result"
        }
      ],
      "source": [
        "df_scaled.columns"
      ]
    },
    {
      "cell_type": "markdown",
      "id": "irAmHyL4nKZN",
      "metadata": {
        "id": "irAmHyL4nKZN"
      },
      "source": [
        "We now need to check the skew of the data, which we can find using the average of the default column:"
      ]
    },
    {
      "cell_type": "code",
      "execution_count": 10,
      "id": "xJTOGiT1nQw6",
      "metadata": {
        "colab": {
          "base_uri": "https://localhost:8080/"
        },
        "id": "xJTOGiT1nQw6",
        "outputId": "7903b39c-2d4d-4d6a-9d11-782c88139aed"
      },
      "outputs": [
        {
          "data": {
            "text/plain": [
              "0.2658984208279983"
            ]
          },
          "execution_count": 10,
          "metadata": {},
          "output_type": "execute_result"
        }
      ],
      "source": [
        "sum(df_scaled['Default'])/len(df_scaled['Default'])"
      ]
    },
    {
      "cell_type": "markdown",
      "id": "kPWzu5fEmYec",
      "metadata": {
        "id": "kPWzu5fEmYec"
      },
      "source": [
        "We see that our data is largely skewed towards people who do not default on their payments. We thus need to stratify our training/testing data as such. With our feature engineering complete, we can now split our testing and training data:"
      ]
    },
    {
      "cell_type": "code",
      "execution_count": 11,
      "id": "JzSDYGJnmYMe",
      "metadata": {
        "id": "JzSDYGJnmYMe"
      },
      "outputs": [],
      "source": [
        "# Applying sklearn's splitter\n",
        "\n",
        "X = df_scaled.drop(labels = 'Default', axis = 1).values\n",
        "y = df_scaled['Default'].values\n",
        "\n",
        "X_train, X_test, y_train, y_test = model_selection.train_test_split(X, y, test_size = 0.25, random_state = 0, stratify = y)"
      ]
    },
    {
      "cell_type": "markdown",
      "id": "zeHcbwjnok7X",
      "metadata": {
        "id": "zeHcbwjnok7X"
      },
      "source": [
        "Now we are ready to train our preliminary model. We are using XGBoost to train our data here, which although is a ML model that can handle tabular data, performs better than most deep learning models such as tabnet etc."
      ]
    },
    {
      "cell_type": "code",
      "execution_count": 12,
      "id": "esWR9F_doyoh",
      "metadata": {
        "colab": {
          "base_uri": "https://localhost:8080/"
        },
        "id": "esWR9F_doyoh",
        "outputId": "41db22e9-ab2b-429e-da62-53f9b44897f4"
      },
      "outputs": [
        {
          "data": {
            "text/plain": [
              "XGBClassifier(base_score=0.5, booster='gbtree', colsample_bylevel=1,\n",
              "              colsample_bynode=1, colsample_bytree=1, enable_categorical=False,\n",
              "              eval_metric='logloss', gamma=0, gpu_id=-1, importance_type=None,\n",
              "              interaction_constraints='', learning_rate=0.300000012,\n",
              "              max_delta_step=0, max_depth=6, min_child_weight=1, missing=nan,\n",
              "              monotone_constraints='()', n_estimators=100, n_jobs=-1,\n",
              "              num_parallel_tree=1, predictor='auto', random_state=0,\n",
              "              reg_alpha=0, reg_lambda=1, scale_pos_weight=2.7596291012838803,\n",
              "              subsample=1, tree_method='exact', use_label_encoder=False,\n",
              "              validate_parameters=1, verbosity=None)"
            ]
          },
          "execution_count": 12,
          "metadata": {},
          "output_type": "execute_result"
        }
      ],
      "source": [
        "cls_weight = (y_train.shape[0] - np.sum(y_train)) / np.sum(y_train)\n",
        "\n",
        "pre_xgb_clf = xgboost.XGBClassifier(eval_metric = 'logloss', use_label_encoder = False, random_state = 0, scale_pos_weight = cls_weight, n_jobs = -1)\n",
        "\n",
        "pre_xgb_clf.fit(X_train,\n",
        "            y_train)"
      ]
    },
    {
      "cell_type": "markdown",
      "id": "ea77DEkvrYyn",
      "metadata": {
        "id": "ea77DEkvrYyn"
      },
      "source": [
        "Great! We have a trained model - now let us look at the confusion matrix of how it performs on the test data as well as calculate its accuracy and f1-scores. Here, 1 refers to a prediction of not defaulter while 0 refers to a prediction of defaulter."
      ]
    },
    {
      "cell_type": "code",
      "execution_count": 13,
      "id": "sBk-yOVAqvXg",
      "metadata": {
        "colab": {
          "base_uri": "https://localhost:8080/",
          "height": 348
        },
        "id": "sBk-yOVAqvXg",
        "outputId": "b3bbdb69-2c22-4557-cf24-f0b33a27ce5d"
      },
      "outputs": [
        {
          "data": {
            "image/png": "[encoded data removed]",
            "text/plain": [
              "<Figure size 432x288 with 2 Axes>"
            ]
          },
          "metadata": {
            "needs_background": "light"
          },
          "output_type": "display_data"
        },
        {
          "name": "stdout",
          "output_type": "stream",
          "text": [
            "The resultant f1-score for defaulting is: 0.6068965517241379\n",
            "The resultant f1-score for not defaulting is: 0.8404638144742103\n",
            "The resultant accuracy is: 0.773037542662116\n",
            "The resultant precision is: 0.5620437956204379\n"
          ]
        }
      ],
      "source": [
        "y_pred = pre_xgb_clf.predict(X_test)\n",
        "\n",
        "ConfusionMatrixDisplay.from_predictions(y_test, y_pred, labels = [1,0])\n",
        "plt.show()\n",
        "\n",
        "pre_f_score = f1_score(y_test, y_pred)\n",
        "print(f\"The resultant f1-score for defaulting is: {pre_f_score}\")\n",
        "pre_f_score_def = f1_score(y_test, y_pred, pos_label=0)\n",
        "print(f\"The resultant f1-score for not defaulting is: {pre_f_score_def}\")\n",
        "pre_accuracy = accuracy_score(y_test, y_pred)\n",
        "print(f\"The resultant accuracy is: {pre_accuracy}\")\n",
        "pre_precision = precision_score(y_test,y_pred)\n",
        "print(f\"The resultant precision is: {pre_precision}\")"
      ]
    },
    {
      "cell_type": "markdown",
      "id": "zANgHGRBwyDn",
      "metadata": {
        "id": "zANgHGRBwyDn"
      },
      "source": [
        "A f-score of 60.9% for predicting if a user will default. However, predicting whether the user will NOT default has a much btter f1-score of 84.0%. Our overall accuracy stands at about 77.3 and our precision at 56.2%. We will now try to optimise our parameters using cross validation and grid search techniques."
      ]
    },
    {
      "cell_type": "code",
      "execution_count": 14,
      "id": "gl2LMccor9ni",
      "metadata": {
        "id": "gl2LMccor9ni"
      },
      "outputs": [],
      "source": [
        "# round_1 = {\n",
        "#     'max_depth' : [3,4,5],\n",
        "#     'learning_rate' : [0.1, 0.5 , 1],\n",
        "#     'gamma' : [0, 0.5, 1.0],\n",
        "#     'reg_lambda' : [10, 20, 50],\n",
        "# }\n",
        "\n",
        "# optimal_params = model_selection.GridSearchCV(\n",
        "#     estimator = xgboost.XGBClassifier(use_label_encoder = False,\n",
        "#                                       random_state = 0,\n",
        "#                                       scale_pos_weight = cls_weight,\n",
        "#                                       n_jobs = -1,\n",
        "#                                       eval_metric = 'logloss'),\n",
        "#     param_grid = round_1,\n",
        "#     scoring = 'roc_auc',\n",
        "#     verbose = 0,\n",
        "#     n_jobs = 10,\n",
        "#     cv = 3\n",
        "# )\n",
        "\n",
        "# optimal_params.fit(X_train, y_train)\n",
        "\n",
        "# print(optimal_params.best_params_)"
      ]
    },
    {
      "cell_type": "markdown",
      "id": "BqX2B_gQ53a5",
      "metadata": {
        "id": "BqX2B_gQ53a5"
      },
      "source": [
        "The optimal parameters given from the first run are:\n",
        "`{'gamma': 0.5, 'learning_rate': 0.1, 'max_depth': 3, 'reg_lambda': 50}`\n",
        "We now fine tune the parameters that returned on either extreme of our round 1 parameter options."
      ]
    },
    {
      "cell_type": "code",
      "execution_count": 15,
      "id": "9SL2BMPj2Vxt",
      "metadata": {
        "id": "9SL2BMPj2Vxt"
      },
      "outputs": [],
      "source": [
        "# round_2 = {\n",
        "#     'max_depth' : [3],\n",
        "#     'learning_rate': [0.01, 0.05, 0.1],\n",
        "#     'gamma': [0.5],\n",
        "#     'reg_lambda': [50, 100, 200]\n",
        "# }\n",
        "\n",
        "# optimal_params = model_selection.GridSearchCV(\n",
        "#     estimator = xgboost.XGBClassifier(use_label_encoder = False,\n",
        "#                                       random_state = 0,\n",
        "#                                       scale_pos_weight = cls_weight,\n",
        "#                                       n_jobs = -1,\n",
        "#                                       eval_metric = 'logloss'),\n",
        "#     param_grid = round_1,\n",
        "#     scoring = 'roc_auc',\n",
        "#     verbose = 0,\n",
        "#     n_jobs = 10,\n",
        "#     cv = 3\n",
        "# )\n",
        "\n",
        "# optimal_params.fit(X_train, y_train)\n",
        "\n",
        "# print(optimal_params.best_params_)"
      ]
    },
    {
      "cell_type": "markdown",
      "id": "iNlN6bt8C487",
      "metadata": {
        "id": "iNlN6bt8C487"
      },
      "source": [
        "Our output from the second run gives the final optimised hyperparameters for our model:\n",
        "`{max_depth : 3, learning_rate : 0.1, gamma: 0.5, reg_lambda : 50}`"
      ]
    },
    {
      "cell_type": "code",
      "execution_count": 16,
      "id": "W_FxbAEV4lFa",
      "metadata": {
        "colab": {
          "base_uri": "https://localhost:8080/"
        },
        "id": "W_FxbAEV4lFa",
        "outputId": "f615585e-b21a-4d72-c277-0e566eb88a4a"
      },
      "outputs": [
        {
          "data": {
            "text/plain": [
              "XGBClassifier(base_score=0.5, booster='gbtree', colsample_bylevel=1,\n",
              "              colsample_bynode=1, colsample_bytree=1, enable_categorical=False,\n",
              "              eval_metric='logloss', gamma=0.5, gpu_id=-1, importance_type=None,\n",
              "              interaction_constraints='', learning_rate=0.1, max_delta_step=0,\n",
              "              max_depth=3, min_child_weight=1, missing=nan,\n",
              "              monotone_constraints='()', n_estimators=100, n_jobs=-1,\n",
              "              num_parallel_tree=1, predictor='auto', random_state=0,\n",
              "              reg_alpha=0, reg_lambda=50, scale_pos_weight=2.7596291012838803,\n",
              "              subsample=1, tree_method='exact', use_label_encoder=False,\n",
              "              validate_parameters=1, verbosity=None)"
            ]
          },
          "execution_count": 16,
          "metadata": {},
          "output_type": "execute_result"
        }
      ],
      "source": [
        "xgb_clf = xgboost.XGBClassifier(use_label_encoder = False,\n",
        "                                random_state = 0,\n",
        "                                scale_pos_weight = cls_weight,\n",
        "                                n_jobs = -1,\n",
        "                                gamma = 0.5,\n",
        "                                learning_rate = 0.1,\n",
        "                                max_depth = 3,\n",
        "                                reg_lambda = 50,\n",
        "                                eval_metric = 'logloss')\n",
        "\n",
        "xgb_clf.fit(X_train, y_train)"
      ]
    },
    {
      "cell_type": "markdown",
      "id": "suetHTzrC3_K",
      "metadata": {
        "id": "suetHTzrC3_K"
      },
      "source": [
        "With our final model, let us calculate the metrics."
      ]
    },
    {
      "cell_type": "code",
      "execution_count": 17,
      "id": "U6fk57sl6pDa",
      "metadata": {
        "colab": {
          "base_uri": "https://localhost:8080/",
          "height": 348
        },
        "id": "U6fk57sl6pDa",
        "outputId": "a2ff8aa1-a784-4511-c075-4e78564c848a"
      },
      "outputs": [
        {
          "data": {
            "image/png": "[encoded data removed]",
            "text/plain": [
              "<Figure size 432x288 with 2 Axes>"
            ]
          },
          "metadata": {
            "needs_background": "light"
          },
          "output_type": "display_data"
        },
        {
          "name": "stdout",
          "output_type": "stream",
          "text": [
            "The resultant f1-score for defaulting is: 0.6272493573264782\n",
            "The resultant f1-score for not defaulting is: 0.8148148148148148\n",
            "The resultant accuracy is: 0.7525597269624573\n",
            "The resultant precision is: 0.5228571428571429\n"
          ]
        }
      ],
      "source": [
        "y_pred = xgb_clf.predict(X_test)\n",
        "\n",
        "ConfusionMatrixDisplay.from_predictions(y_test, y_pred, labels = [1,0])\n",
        "plt.show()\n",
        "\n",
        "f_score = f1_score(y_test, y_pred)\n",
        "print(f\"The resultant f1-score for defaulting is: {f_score}\")\n",
        "f_score_def = f1_score(y_test, y_pred, pos_label=0)\n",
        "print(f\"The resultant f1-score for not defaulting is: {f_score_def}\")\n",
        "accuracy = accuracy_score(y_test, y_pred)\n",
        "print(f\"The resultant accuracy is: {accuracy}\")\n",
        "precision = precision_score(y_test,y_pred)\n",
        "print(f\"The resultant precision is: {precision}\")"
      ]
    },
    {
      "cell_type": "markdown",
      "id": "zpZLY4YDEJxN",
      "metadata": {
        "id": "zpZLY4YDEJxN"
      },
      "source": [
        "We can now compare to see how much our new model has improved!"
      ]
    },
    {
      "cell_type": "code",
      "execution_count": 18,
      "id": "46Y--Gg1E0_r",
      "metadata": {
        "colab": {
          "base_uri": "https://localhost:8080/",
          "height": 507
        },
        "id": "46Y--Gg1E0_r",
        "outputId": "e30d56a5-cb68-49f6-f77f-e44dbe033c91"
      },
      "outputs": [
        {
          "data": {
            "image/png": "[encoded data removed]",
            "text/plain": [
              "<Figure size 864x576 with 1 Axes>"
            ]
          },
          "metadata": {
            "needs_background": "light"
          },
          "output_type": "display_data"
        }
      ],
      "source": [
        "# set width of bar\n",
        "barWidth = 0.25\n",
        "fig = plt.subplots(figsize =(12, 8))\n",
        "\n",
        "pre_data = [pre_f_score, pre_f_score_def, pre_accuracy, pre_precision]\n",
        "data = [f_score, f_score_def, accuracy, precision]\n",
        "\n",
        "# Set position of bar on X axis\n",
        "br1 = np.arange(len(pre_data))\n",
        "br2 = [x + barWidth for x in br1]\n",
        " \n",
        "# Make the plot\n",
        "plt.bar(br1, pre_data, color ='b', width = barWidth,\n",
        "        edgecolor ='grey', label ='Preliminary Model')\n",
        "plt.bar(br2, data, color ='r', width = barWidth, label ='Optimised Model')\n",
        " \n",
        "# Adding Xticks\n",
        "plt.xlabel('Metric', fontweight ='bold', fontsize = 15)\n",
        "plt.ylabel('Score', fontweight ='bold', fontsize = 15)\n",
        "plt.xticks([r + barWidth/2 for r in range(len(pre_data))],\n",
        "        ['f_score_def', 'f_score_no_def', 'accuracy', 'precision'])\n",
        "\n",
        "# Adjust the y-axis to zoom in on the relevant area\n",
        "ax = plt.gca()\n",
        "ax.set_ylim([0.45,0.85])\n",
        "\n",
        "plt.legend()\n",
        "plt.show()\n"
      ]
    },
    {
      "cell_type": "code",
      "execution_count": 19,
      "id": "IAcS6MwtIXBP",
      "metadata": {
        "colab": {
          "base_uri": "https://localhost:8080/"
        },
        "id": "IAcS6MwtIXBP",
        "outputId": "8305c90e-8593-41da-e90f-792bb29c8114"
      },
      "outputs": [
        {
          "name": "stdout",
          "output_type": "stream",
          "text": [
            "The increase in f1-score for defaulters is 3.3535872867492573%\n",
            "The increase in f1-score for not defaulting is -3.0517672763153243%\n",
            "The increase in accuracy is -2.649006622516553%\n",
            "The increase in precision is -6.972170686456389%\n"
          ]
        }
      ],
      "source": [
        "# Calculate percentage increase from base model\n",
        "f_score_inc = (f_score - pre_f_score)/pre_f_score\n",
        "f_score_def_inc = (f_score_def - pre_f_score_def)/pre_f_score_def\n",
        "accuracy_inc = (accuracy - pre_accuracy)/pre_accuracy\n",
        "precision_inc = (precision - pre_precision)/pre_precision\n",
        "\n",
        "print(f\"The increase in f1-score for defaulters is {f_score_inc*100}%\")\n",
        "print(f\"The increase in f1-score for not defaulting is {f_score_def_inc*100}%\")\n",
        "print(f\"The increase in accuracy is {accuracy_inc*100}%\")\n",
        "print(f\"The increase in precision is {precision_inc*100}%\")"
      ]
    },
    {
      "cell_type": "markdown",
      "id": "SiMBfRtwHugb",
      "metadata": {
        "id": "SiMBfRtwHugb"
      },
      "source": [
        "We can see that while our f1-score for predicting if a user will default on their telco payment has increased slightly, it has come at the cost of the other metrics. While our f1-score for defaulting improved by 3.35%, the f1-score for not defaulting decreased by 3.05%, the accuracy dropped by 2.64% and the precision dropped by 6.97%. Depending on the metric we are targetting, we can choose the relevant model as such."
      ]
    },
    {
      "cell_type": "markdown",
      "id": "46KCzty-JZ9p",
      "metadata": {
        "id": "46KCzty-JZ9p"
      },
      "source": [
        "Finally, we can save our model!"
      ]
    },
    {
      "cell_type": "code",
      "execution_count": 20,
      "id": "j8pASkimJdKA",
      "metadata": {
        "id": "j8pASkimJdKA"
      },
      "outputs": [],
      "source": [
        "import pickle\n",
        "pickle.dump(pre_xgb_clf, open(\"preliminary_telco_default_model.json\", \"wb\"))\n",
        "pickle.dump(xgb_clf, open(\"telco_default_model.json\", \"wb\"))"
      ]
    }
  ],
  "metadata": {
    "accelerator": "GPU",
    "colab": {
      "collapsed_sections": [],
      "name": "Model Training.py.ipynb",
      "provenance": []
    },
    "kernelspec": {
      "display_name": "Python 3",
      "language": "python",
      "name": "python3"
    },
    "language_info": {
      "codemirror_mode": {
        "name": "ipython",
        "version": 3
      },
      "file_extension": ".py",
      "mimetype": "text/x-python",
      "name": "python",
      "nbconvert_exporter": "python",
      "pygments_lexer": "ipython3",
      "version": "3.9.10"
    }
  },
  "nbformat": 4,
  "nbformat_minor": 5
}
